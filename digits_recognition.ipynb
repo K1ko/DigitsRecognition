{
 "cells": [
  {
   "cell_type": "markdown",
   "source": [
    "# Digits Recognition - imports"
   ],
   "metadata": {
    "collapsed": false
   },
   "id": "a2e59a80b693e472"
  },
  {
   "cell_type": "code",
   "execution_count": 2,
   "id": "initial_id",
   "metadata": {
    "collapsed": true,
    "ExecuteTime": {
     "end_time": "2024-07-02T16:12:18.614345Z",
     "start_time": "2024-07-02T16:12:15.344203Z"
    }
   },
   "outputs": [],
   "source": [
    "import tensorflow as tf"
   ]
  },
  {
   "cell_type": "code",
   "outputs": [
    {
     "data": {
      "text/plain": "<module 'keras.api.datasets.mnist' from 'C:\\\\Users\\\\patri\\\\Documents\\\\FIIT\\\\BP\\\\DigitsRecognition\\\\.venv\\\\Lib\\\\site-packages\\\\keras\\\\api\\\\datasets\\\\mnist\\\\__init__.py'>"
     },
     "execution_count": 9,
     "metadata": {},
     "output_type": "execute_result"
    }
   ],
   "source": [
    "mnist_data = tf.keras.datasets.mnist # load dataset\n",
    "mnist_data"
   ],
   "metadata": {
    "collapsed": false,
    "ExecuteTime": {
     "end_time": "2024-07-02T16:15:00.155608Z",
     "start_time": "2024-07-02T16:15:00.151516Z"
    }
   },
   "id": "ec8522d36dd77871",
   "execution_count": 9
  },
  {
   "cell_type": "code",
   "outputs": [],
   "source": [
    "(x_train, y_train), (x_test, y_test) = mnist_data.load_data() # split dataset"
   ],
   "metadata": {
    "collapsed": false,
    "ExecuteTime": {
     "end_time": "2024-07-02T16:13:35.476339Z",
     "start_time": "2024-07-02T16:13:35.299893Z"
    }
   },
   "id": "5dfb59b87b00a208",
   "execution_count": 6
  },
  {
   "cell_type": "code",
   "outputs": [
    {
     "data": {
      "text/plain": "(60000, 28, 28)"
     },
     "execution_count": 13,
     "metadata": {},
     "output_type": "execute_result"
    }
   ],
   "source": [
    "x_train.shape"
   ],
   "metadata": {
    "collapsed": false,
    "ExecuteTime": {
     "end_time": "2024-07-02T16:15:51.089492Z",
     "start_time": "2024-07-02T16:15:51.085994Z"
    }
   },
   "id": "afdc46795eeb2213",
   "execution_count": 13
  },
  {
   "cell_type": "code",
   "outputs": [],
   "source": [
    "x_train = tf.keras.utils.normalize(x_train, axis = 1) # normalize data\n",
    "x_test = tf.keras.utils.normalize(x_test, axis = 1) # normalize data"
   ],
   "metadata": {
    "collapsed": false,
    "ExecuteTime": {
     "end_time": "2024-07-02T16:17:20.335395Z",
     "start_time": "2024-07-02T16:17:19.885645Z"
    }
   },
   "id": "869226dfeaf8f222",
   "execution_count": 15
  },
  {
   "cell_type": "code",
   "outputs": [],
   "source": [
    "digit_model = tf.keras.models.Sequential() # create model\n",
    "digit_model.add(tf.keras.layers.Flatten(input_shape = (28, 28))) # flatten input layer to 1D array of 784 features (28x28)\n",
    "digit_model.add(tf.keras.layers.Dense(128, activation = 'relu')) # add hidden layer with 128 neurons\n",
    "digit_model.add(tf.keras.layers.Dense(128, activation = 'relu')) # add hidden layer with 128 neurons\n",
    "digit_model.add(tf.keras.layers.Dense(10, activation = 'softmax')) # add output layer with 10 neurons (0-9)"
   ],
   "metadata": {
    "collapsed": false,
    "ExecuteTime": {
     "end_time": "2024-07-02T16:24:11.118212Z",
     "start_time": "2024-07-02T16:24:11.050336Z"
    }
   },
   "id": "ae2b735d0772598b",
   "execution_count": 18
  },
  {
   "cell_type": "code",
   "outputs": [],
   "source": [
    "digit_model.compile(optimizer = 'adam', loss = 'sparse_categorical_crossentropy', metrics = ['accuracy']) # compile model"
   ],
   "metadata": {
    "collapsed": false,
    "ExecuteTime": {
     "end_time": "2024-07-02T16:25:31.082319Z",
     "start_time": "2024-07-02T16:25:31.064712Z"
    }
   },
   "id": "c770f0fb56a16c09",
   "execution_count": 19
  },
  {
   "cell_type": "code",
   "outputs": [
    {
     "name": "stdout",
     "output_type": "stream",
     "text": [
      "Epoch 1/6\n",
      "\u001B[1m1875/1875\u001B[0m \u001B[32m━━━━━━━━━━━━━━━━━━━━\u001B[0m\u001B[37m\u001B[0m \u001B[1m3s\u001B[0m 1ms/step - accuracy: 0.9876 - loss: 0.0383\n",
      "Epoch 2/6\n",
      "\u001B[1m1875/1875\u001B[0m \u001B[32m━━━━━━━━━━━━━━━━━━━━\u001B[0m\u001B[37m\u001B[0m \u001B[1m2s\u001B[0m 1ms/step - accuracy: 0.9907 - loss: 0.0285\n",
      "Epoch 3/6\n",
      "\u001B[1m1875/1875\u001B[0m \u001B[32m━━━━━━━━━━━━━━━━━━━━\u001B[0m\u001B[37m\u001B[0m \u001B[1m2s\u001B[0m 1ms/step - accuracy: 0.9924 - loss: 0.0228\n",
      "Epoch 4/6\n",
      "\u001B[1m1875/1875\u001B[0m \u001B[32m━━━━━━━━━━━━━━━━━━━━\u001B[0m\u001B[37m\u001B[0m \u001B[1m2s\u001B[0m 1ms/step - accuracy: 0.9938 - loss: 0.0193\n",
      "Epoch 5/6\n",
      "\u001B[1m1875/1875\u001B[0m \u001B[32m━━━━━━━━━━━━━━━━━━━━\u001B[0m\u001B[37m\u001B[0m \u001B[1m3s\u001B[0m 2ms/step - accuracy: 0.9943 - loss: 0.0158\n",
      "Epoch 6/6\n",
      "\u001B[1m1875/1875\u001B[0m \u001B[32m━━━━━━━━━━━━━━━━━━━━\u001B[0m\u001B[37m\u001B[0m \u001B[1m3s\u001B[0m 1ms/step - accuracy: 0.9956 - loss: 0.0127\n"
     ]
    },
    {
     "data": {
      "text/plain": "<keras.src.callbacks.history.History at 0x21f45ca41d0>"
     },
     "execution_count": 21,
     "metadata": {},
     "output_type": "execute_result"
    }
   ],
   "source": [
    "digit_model.fit(x_train, y_train, epochs = 6) # train model"
   ],
   "metadata": {
    "collapsed": false,
    "ExecuteTime": {
     "end_time": "2024-07-02T16:26:55.314911Z",
     "start_time": "2024-07-02T16:26:39.705082Z"
    }
   },
   "id": "ec3f1d8509f60541",
   "execution_count": 21
  },
  {
   "cell_type": "code",
   "outputs": [
    {
     "name": "stdout",
     "output_type": "stream",
     "text": [
      "\u001B[1m313/313\u001B[0m \u001B[32m━━━━━━━━━━━━━━━━━━━━\u001B[0m\u001B[37m\u001B[0m \u001B[1m0s\u001B[0m 777us/step - accuracy: 0.9736 - loss: 0.1165\n"
     ]
    }
   ],
   "source": [
    "loss, accuracy = digit_model.evaluate(x_test, y_test) # evaluate model"
   ],
   "metadata": {
    "collapsed": false,
    "ExecuteTime": {
     "end_time": "2024-07-02T16:27:55.991061Z",
     "start_time": "2024-07-02T16:27:55.598596Z"
    }
   },
   "id": "e2a90c6183e50070",
   "execution_count": 22
  },
  {
   "cell_type": "code",
   "outputs": [
    {
     "name": "stdout",
     "output_type": "stream",
     "text": [
      "INFO:tensorflow:Assets written to: digits_recognition_model.h5\\assets\n"
     ]
    },
    {
     "name": "stderr",
     "output_type": "stream",
     "text": [
      "INFO:tensorflow:Assets written to: digits_recognition_model.h5\\assets\n"
     ]
    },
    {
     "name": "stdout",
     "output_type": "stream",
     "text": [
      "Saved artifact at 'digits_recognition_model.h5'. The following endpoints are available:\n",
      "\n",
      "* Endpoint 'serve'\n",
      "  args_0 (POSITIONAL_ONLY): TensorSpec(shape=(None, 28, 28), dtype=tf.float32, name='keras_tensor_2')\n",
      "Output Type:\n",
      "  TensorSpec(shape=(None, 10), dtype=tf.float32, name=None)\n",
      "Captures:\n",
      "  2333285008480: TensorSpec(shape=(), dtype=tf.resource, name=None)\n",
      "  2333285009712: TensorSpec(shape=(), dtype=tf.resource, name=None)\n",
      "  2333285008832: TensorSpec(shape=(), dtype=tf.resource, name=None)\n",
      "  2333285010416: TensorSpec(shape=(), dtype=tf.resource, name=None)\n",
      "  2333285010768: TensorSpec(shape=(), dtype=tf.resource, name=None)\n",
      "  2333285010944: TensorSpec(shape=(), dtype=tf.resource, name=None)\n"
     ]
    }
   ],
   "source": [
    "digit_model.export('digits_recognition_model.h5') # save model"
   ],
   "metadata": {
    "collapsed": false,
    "ExecuteTime": {
     "end_time": "2024-07-02T16:29:01.388217Z",
     "start_time": "2024-07-02T16:29:01.148701Z"
    }
   },
   "id": "3cd22daa57b7e91b",
   "execution_count": 24
  },
  {
   "cell_type": "markdown",
   "source": [
    "# Visualization"
   ],
   "metadata": {
    "collapsed": false
   },
   "id": "65c44d46ed5ba98"
  },
  {
   "cell_type": "code",
   "outputs": [],
   "source": [
    "import os\n",
    "import cv2\n",
    "import numpy as np\n",
    "import streamlit as st\n",
    "from PIL import Image \n",
    "import tempfile"
   ],
   "metadata": {
    "collapsed": false,
    "ExecuteTime": {
     "end_time": "2024-07-02T16:36:23.473661Z",
     "start_time": "2024-07-02T16:36:22.654604Z"
    }
   },
   "id": "8a53b3bbd177e172",
   "execution_count": 27
  },
  {
   "cell_type": "code",
   "outputs": [],
   "source": [
    "def classify_digits(model, image):\n",
    "    img = cv2.imread(image)[:,:,0]\n",
    "    img = np.invert(np.array([img]))\n",
    "    prediction = model.predict(img)\n",
    "    return prediction"
   ],
   "metadata": {
    "collapsed": false,
    "ExecuteTime": {
     "end_time": "2024-07-02T16:47:14.131935Z",
     "start_time": "2024-07-02T16:47:14.128581Z"
    }
   },
   "id": "6258fb79a1a8009c",
   "execution_count": 28
  },
  {
   "cell_type": "code",
   "outputs": [],
   "source": [
    "def resize_image(image, target_size):\n",
    "    img = Image.open(image)\n",
    "    resized_img = img.resize(target_size)\n",
    "    return resized_img"
   ],
   "metadata": {
    "collapsed": false,
    "ExecuteTime": {
     "end_time": "2024-07-02T16:49:05.441259Z",
     "start_time": "2024-07-02T16:49:05.437273Z"
    }
   },
   "id": "2562316853305040",
   "execution_count": 29
  },
  {
   "cell_type": "code",
   "outputs": [
    {
     "name": "stderr",
     "output_type": "stream",
     "text": [
      "2024-07-02 18:50:43.110 \n",
      "  \u001B[33m\u001B[1mWarning:\u001B[0m to view this Streamlit app on a browser, run it with the following\n",
      "  command:\n",
      "\n",
      "    streamlit run C:\\Users\\patri\\Documents\\FIIT\\BP\\DigitsRecognition\\.venv\\Lib\\site-packages\\ipykernel_launcher.py [ARGUMENTS]\n"
     ]
    }
   ],
   "source": [
    "st.set_page_config(page_title = 'Digits Recognition', page_icon = '🔢')\n",
    "st.title('Digits Recognition')\n",
    "\n",
    "uploaded_image = st.file_uploader('Upload an image', type = ['jpg', 'jpeg', 'png'])"
   ],
   "metadata": {
    "collapsed": false,
    "ExecuteTime": {
     "end_time": "2024-07-02T16:50:43.113162Z",
     "start_time": "2024-07-02T16:50:42.901956Z"
    }
   },
   "id": "cccda88c044b1b45",
   "execution_count": 30
  }
 ],
 "metadata": {
  "kernelspec": {
   "display_name": "Python 3",
   "language": "python",
   "name": "python3"
  },
  "language_info": {
   "codemirror_mode": {
    "name": "ipython",
    "version": 2
   },
   "file_extension": ".py",
   "mimetype": "text/x-python",
   "name": "python",
   "nbconvert_exporter": "python",
   "pygments_lexer": "ipython2",
   "version": "2.7.6"
  }
 },
 "nbformat": 4,
 "nbformat_minor": 5
}
