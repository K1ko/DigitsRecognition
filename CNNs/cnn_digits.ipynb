{
 "cells": [
  {
   "cell_type": "code",
   "id": "initial_id",
   "metadata": {
    "collapsed": true,
    "ExecuteTime": {
     "end_time": "2024-08-22T15:42:36.801815Z",
     "start_time": "2024-08-22T15:42:23.188699Z"
    }
   },
   "source": [
    "import cv2 as cv\n",
    "import numpy as np\n",
    "import matplotlib.pyplot as plt\n",
    "import tensorflow as tf\n",
    "import albumentations as A\n"
   ],
   "outputs": [
    {
     "name": "stderr",
     "output_type": "stream",
     "text": [
      "Matplotlib is building the font cache; this may take a moment.\n"
     ]
    }
   ],
   "execution_count": 1
  },
  {
   "metadata": {
    "ExecuteTime": {
     "end_time": "2024-08-22T15:43:04.665533Z",
     "start_time": "2024-08-22T15:43:04.258044Z"
    }
   },
   "cell_type": "code",
   "source": [
    "\n",
    "mnist = tf.keras.datasets.mnist\n",
    "\n",
    "(x_train, y_train), (x_test, y_test) = mnist.load_data()\n",
    "\n",
    "x_train =  tf.keras.utils.normalize(x_train, axis=1)\n",
    "x_test = tf.keras.utils.normalize(x_test, axis=1)"
   ],
   "id": "e116c53ef8cd1141",
   "outputs": [],
   "execution_count": 2
  },
  {
   "metadata": {
    "ExecuteTime": {
     "end_time": "2024-08-22T15:43:05.315017Z",
     "start_time": "2024-08-22T15:43:05.312720Z"
    }
   },
   "cell_type": "code",
   "source": [
    "# Expand the dimensions of the images so that they can be fed into the model\n",
    "x_train = np.expand_dims(x_train, axis=-1)\n",
    "x_test = np.expand_dims(x_test, axis=-1)"
   ],
   "id": "ca02b1a41cfc963e",
   "outputs": [],
   "execution_count": 3
  },
  {
   "metadata": {
    "ExecuteTime": {
     "end_time": "2024-08-22T15:43:06.134454Z",
     "start_time": "2024-08-22T15:43:06.130766Z"
    }
   },
   "cell_type": "code",
   "source": "x_train.shape",
   "id": "2c32eb913cf61610",
   "outputs": [
    {
     "data": {
      "text/plain": [
       "(60000, 28, 28, 1)"
      ]
     },
     "execution_count": 4,
     "metadata": {},
     "output_type": "execute_result"
    }
   ],
   "execution_count": 4
  },
  {
   "metadata": {
    "ExecuteTime": {
     "end_time": "2024-08-22T15:43:06.731121Z",
     "start_time": "2024-08-22T15:43:06.728447Z"
    }
   },
   "cell_type": "code",
   "source": [
    "(x_test.\n",
    "shape)"
   ],
   "id": "e3992b7cae825957",
   "outputs": [
    {
     "data": {
      "text/plain": [
       "(10000, 28, 28, 1)"
      ]
     },
     "execution_count": 5,
     "metadata": {},
     "output_type": "execute_result"
    }
   ],
   "execution_count": 5
  },
  {
   "metadata": {
    "ExecuteTime": {
     "end_time": "2024-08-22T15:43:07.182788Z",
     "start_time": "2024-08-22T15:43:07.179137Z"
    }
   },
   "cell_type": "code",
   "source": [
    "augment = A.Compose([\n",
    "    A.ShiftScaleRotate(shift_limit=0.05, scale_limit=0.05, rotate_limit=15, p=0.5),\n",
    "    A.RandomBrightnessContrast(p=0.2),\n",
    "    A.GaussianBlur(p=0.2),\n",
    "])"
   ],
   "id": "3e42fbc7d6fbbc61",
   "outputs": [],
   "execution_count": 6
  },
  {
   "metadata": {
    "ExecuteTime": {
     "end_time": "2024-08-22T15:43:07.666454Z",
     "start_time": "2024-08-22T15:43:07.643276Z"
    }
   },
   "cell_type": "code",
   "source": [
    "# Data generator for the training set\n",
    "def data_generator(x, y, batch_size=32):\n",
    "    while True:\n",
    "        for i in range(0, len(x), batch_size):\n",
    "            x_batch, y_batch = x[i:i+batch_size], y[i:i+batch_size]\n",
    "            x_batch_augmented = np.array([augment(image=img.reshape(28, 28))['image'].reshape(28, 28, 1) for img in x_batch])\n",
    "            yield x_batch_augmented, y_batch\n",
    "\n",
    "\n",
    "# Define the model\n",
    "model = tf.keras.models.Sequential([\n",
    "    tf.keras.layers.Flatten(input_shape=(28, 28, 1)),\n",
    "    tf.keras.layers.Dense(128, activation=tf.nn.relu),\n",
    "    tf.keras.layers.Dense(128, activation=tf.nn.relu),\n",
    "    tf.keras.layers.Dense(10, activation=tf.nn.softmax)\n",
    "])"
   ],
   "id": "12fc6fb90e0c9b4c",
   "outputs": [
    {
     "name": "stderr",
     "output_type": "stream",
     "text": [
      "/opt/anaconda3/envs/FIITSTU/lib/python3.12/site-packages/keras/src/layers/reshaping/flatten.py:37: UserWarning: Do not pass an `input_shape`/`input_dim` argument to a layer. When using Sequential models, prefer using an `Input(shape)` object as the first layer in the model instead.\n",
      "  super().__init__(**kwargs)\n"
     ]
    }
   ],
   "execution_count": 7
  },
  {
   "metadata": {},
   "cell_type": "markdown",
   "source": "",
   "id": "87ff8f53226947b6"
  },
  {
   "metadata": {
    "ExecuteTime": {
     "end_time": "2024-08-22T15:43:09.687226Z",
     "start_time": "2024-08-22T15:43:09.649729Z"
    }
   },
   "cell_type": "code",
   "source": [
    "def visualize_data_generator(x, y, batch_size=10):\n",
    "    for i in range(0, len(x), batch_size):\n",
    "        x_batch, y_batch = x[i:i+batch_size], y[i:i+batch_size]\n",
    "        x_batch_augmented = np.array([augment(image=img.reshape(28, 28))['image'].reshape(28, 28, 1) for img in x_batch])\n",
    "        yield x_batch, x_batch_augmented, y_batch\n",
    "\n",
    "# Generate one batch of data\n",
    "generator = visualize_data_generator(x_train, y_train)\n",
    "original_images, augmented_images, labels = next(generator)\n",
    "\n",
    "def plot_images(original_images, augmented_images, number_to_show=10):\n",
    "    fig, axes = plt.subplots(nrows=number_to_show, ncols=2, figsize=(5, 2*number_to_show))\n",
    "    for i in range(number_to_show):\n",
    "        ax = axes[i, 0]\n",
    "        ax.imshow(original_images[i].squeeze(), cmap='gray')\n",
    "        ax.title.set_text('Original')\n",
    "        ax.axis('off')\n",
    "\n",
    "        ax = axes[i, 1]\n",
    "        ax.imshow(augmented_images[i].squeeze(), cmap='gray')\n",
    "        ax.title.set_text('Augmented')\n",
    "        ax.axis('off')\n",
    "\n",
    "    plt.tight_layout()\n",
    "    plt.show()"
   ],
   "id": "22b98809f9c8cdd8",
   "outputs": [],
   "execution_count": 8
  },
  {
   "metadata": {
    "ExecuteTime": {
     "end_time": "2024-08-22T15:43:23.105620Z",
     "start_time": "2024-08-22T15:43:10.509933Z"
    }
   },
   "cell_type": "code",
   "source": [
    "model.compile(optimizer='adam', loss = 'sparse_categorical_crossentropy', metrics=['accuracy'])\n",
    "\n",
    "# Train the model using the generator\n",
    "batch_size = 32\n",
    "steps_per_epoch = len(x_train) // batch_size\n",
    "model.fit(data_generator(x_train, y_train, batch_size), steps_per_epoch=steps_per_epoch, epochs=3)\n",
    "\n",
    "# Evaluate the model\n",
    "loss, accuracy = model.evaluate(x_test, y_test)\n",
    "print(\"Test Accuracy:\", accuracy)\n",
    "print(\"Test Loss:\", loss)\n"
   ],
   "id": "2a46af7dfc932423",
   "outputs": [
    {
     "name": "stdout",
     "output_type": "stream",
     "text": [
      "Epoch 1/3\n",
      "\u001B[1m1875/1875\u001B[0m \u001B[32m━━━━━━━━━━━━━━━━━━━━\u001B[0m\u001B[37m\u001B[0m \u001B[1m4s\u001B[0m 2ms/step - accuracy: 0.8148 - loss: 0.6366\n",
      "Epoch 2/3\n",
      "\u001B[1m1875/1875\u001B[0m \u001B[32m━━━━━━━━━━━━━━━━━━━━\u001B[0m\u001B[37m\u001B[0m \u001B[1m4s\u001B[0m 2ms/step - accuracy: 0.9326 - loss: 0.2230\n",
      "Epoch 3/3\n",
      "\u001B[1m1875/1875\u001B[0m \u001B[32m━━━━━━━━━━━━━━━━━━━━\u001B[0m\u001B[37m\u001B[0m \u001B[1m4s\u001B[0m 2ms/step - accuracy: 0.9486 - loss: 0.1679\n",
      "\u001B[1m313/313\u001B[0m \u001B[32m━━━━━━━━━━━━━━━━━━━━\u001B[0m\u001B[37m\u001B[0m \u001B[1m0s\u001B[0m 237us/step - accuracy: 0.9596 - loss: 0.1340\n",
      "Test Accuracy: 0.9657999873161316\n",
      "Test Loss: 0.11305026710033417\n"
     ]
    }
   ],
   "execution_count": 9
  },
  {
   "metadata": {
    "ExecuteTime": {
     "end_time": "2024-08-22T15:43:24.183838Z",
     "start_time": "2024-08-22T15:43:24.074692Z"
    }
   },
   "cell_type": "code",
   "source": "loss, accuracy = model.evaluate(x_test, y_test)",
   "id": "fab1c832c989b3c9",
   "outputs": [
    {
     "name": "stdout",
     "output_type": "stream",
     "text": [
      "\u001B[1m313/313\u001B[0m \u001B[32m━━━━━━━━━━━━━━━━━━━━\u001B[0m\u001B[37m\u001B[0m \u001B[1m0s\u001B[0m 232us/step - accuracy: 0.9596 - loss: 0.1340\n"
     ]
    }
   ],
   "execution_count": 10
  },
  {
   "metadata": {
    "ExecuteTime": {
     "end_time": "2024-08-22T15:43:26.006943Z",
     "start_time": "2024-08-22T15:43:25.548913Z"
    }
   },
   "cell_type": "code",
   "source": [
    "\n",
    "plot_images(original_images, augmented_images, number_to_show=10)"
   ],
   "id": "56d1b2fc457f2a99",
   "outputs": [
    {
     "data": {
      "text/plain": [
       "<Figure size 500x2000 with 20 Axes>"
      ],
      "image/png": "[encoded data removed]"
     },
     "metadata": {},
     "output_type": "display_data"
    }
   ],
   "execution_count": 11
  },
  {
   "metadata": {
    "ExecuteTime": {
     "end_time": "2024-08-22T15:43:27.322924Z",
     "start_time": "2024-08-22T15:43:27.320117Z"
    }
   },
   "cell_type": "code",
   "source": "print(accuracy)",
   "id": "1708ddd0457bf592",
   "outputs": [
    {
     "name": "stdout",
     "output_type": "stream",
     "text": [
      "0.9657999873161316\n"
     ]
    }
   ],
   "execution_count": 12
  },
  {
   "metadata": {
    "ExecuteTime": {
     "end_time": "2024-08-22T15:43:27.872185Z",
     "start_time": "2024-08-22T15:43:27.870456Z"
    }
   },
   "cell_type": "code",
   "source": "print(loss)",
   "id": "769c6920be35086c",
   "outputs": [
    {
     "name": "stdout",
     "output_type": "stream",
     "text": [
      "0.11305026710033417\n"
     ]
    }
   ],
   "execution_count": 13
  },
  {
   "metadata": {},
   "cell_type": "code",
   "outputs": [],
   "execution_count": null,
   "source": "",
   "id": "6fd6ffb73418d46e"
  },
  {
   "metadata": {
    "ExecuteTime": {
     "end_time": "2024-08-18T09:45:54.207301Z",
     "start_time": "2024-08-18T09:45:54.099282Z"
    }
   },
   "cell_type": "code",
   "source": "model.save('digits_model.h5')",
   "id": "69f20cdd01472d92",
   "outputs": [
    {
     "ename": "ValueError",
     "evalue": "Invalid filepath extension for saving. Please add either a `.keras` extension for the native Keras format (recommended) or a `.h5` extension. Use `model.export(filepath)` if you want to export a SavedModel for use with TFLite/TFServing/etc. Received: filepath=digits.model.",
     "output_type": "error",
     "traceback": [
      "\u001B[0;31m---------------------------------------------------------------------------\u001B[0m",
      "\u001B[0;31mValueError\u001B[0m                                Traceback (most recent call last)",
      "Cell \u001B[0;32mIn[17], line 1\u001B[0m\n\u001B[0;32m----> 1\u001B[0m \u001B[43mmodel\u001B[49m\u001B[38;5;241;43m.\u001B[39;49m\u001B[43msave\u001B[49m\u001B[43m(\u001B[49m\u001B[38;5;124;43m'\u001B[39;49m\u001B[38;5;124;43mdigits.model\u001B[39;49m\u001B[38;5;124;43m'\u001B[39;49m\u001B[43m)\u001B[49m\n",
      "File \u001B[0;32m~/anaconda3/envs/FIITSTU/lib/python3.12/site-packages/keras/src/utils/traceback_utils.py:122\u001B[0m, in \u001B[0;36mfilter_traceback.<locals>.error_handler\u001B[0;34m(*args, **kwargs)\u001B[0m\n\u001B[1;32m    119\u001B[0m     filtered_tb \u001B[38;5;241m=\u001B[39m _process_traceback_frames(e\u001B[38;5;241m.\u001B[39m__traceback__)\n\u001B[1;32m    120\u001B[0m     \u001B[38;5;66;03m# To get the full stack trace, call:\u001B[39;00m\n\u001B[1;32m    121\u001B[0m     \u001B[38;5;66;03m# `keras.config.disable_traceback_filtering()`\u001B[39;00m\n\u001B[0;32m--> 122\u001B[0m     \u001B[38;5;28;01mraise\u001B[39;00m e\u001B[38;5;241m.\u001B[39mwith_traceback(filtered_tb) \u001B[38;5;28;01mfrom\u001B[39;00m \u001B[38;5;28;01mNone\u001B[39;00m\n\u001B[1;32m    123\u001B[0m \u001B[38;5;28;01mfinally\u001B[39;00m:\n\u001B[1;32m    124\u001B[0m     \u001B[38;5;28;01mdel\u001B[39;00m filtered_tb\n",
      "File \u001B[0;32m~/anaconda3/envs/FIITSTU/lib/python3.12/site-packages/keras/src/saving/saving_api.py:109\u001B[0m, in \u001B[0;36msave_model\u001B[0;34m(model, filepath, overwrite, zipped, **kwargs)\u001B[0m\n\u001B[1;32m    105\u001B[0m \u001B[38;5;28;01mif\u001B[39;00m \u001B[38;5;28mstr\u001B[39m(filepath)\u001B[38;5;241m.\u001B[39mendswith((\u001B[38;5;124m\"\u001B[39m\u001B[38;5;124m.h5\u001B[39m\u001B[38;5;124m\"\u001B[39m, \u001B[38;5;124m\"\u001B[39m\u001B[38;5;124m.hdf5\u001B[39m\u001B[38;5;124m\"\u001B[39m)):\n\u001B[1;32m    106\u001B[0m     \u001B[38;5;28;01mreturn\u001B[39;00m legacy_h5_format\u001B[38;5;241m.\u001B[39msave_model_to_hdf5(\n\u001B[1;32m    107\u001B[0m         model, filepath, overwrite, include_optimizer\n\u001B[1;32m    108\u001B[0m     )\n\u001B[0;32m--> 109\u001B[0m \u001B[38;5;28;01mraise\u001B[39;00m \u001B[38;5;167;01mValueError\u001B[39;00m(\n\u001B[1;32m    110\u001B[0m     \u001B[38;5;124m\"\u001B[39m\u001B[38;5;124mInvalid filepath extension for saving. \u001B[39m\u001B[38;5;124m\"\u001B[39m\n\u001B[1;32m    111\u001B[0m     \u001B[38;5;124m\"\u001B[39m\u001B[38;5;124mPlease add either a `.keras` extension for the native Keras \u001B[39m\u001B[38;5;124m\"\u001B[39m\n\u001B[1;32m    112\u001B[0m     \u001B[38;5;124mf\u001B[39m\u001B[38;5;124m\"\u001B[39m\u001B[38;5;124mformat (recommended) or a `.h5` extension. \u001B[39m\u001B[38;5;124m\"\u001B[39m\n\u001B[1;32m    113\u001B[0m     \u001B[38;5;124m\"\u001B[39m\u001B[38;5;124mUse `model.export(filepath)` if you want to export a SavedModel \u001B[39m\u001B[38;5;124m\"\u001B[39m\n\u001B[1;32m    114\u001B[0m     \u001B[38;5;124m\"\u001B[39m\u001B[38;5;124mfor use with TFLite/TFServing/etc. \u001B[39m\u001B[38;5;124m\"\u001B[39m\n\u001B[1;32m    115\u001B[0m     \u001B[38;5;124mf\u001B[39m\u001B[38;5;124m\"\u001B[39m\u001B[38;5;124mReceived: filepath=\u001B[39m\u001B[38;5;132;01m{\u001B[39;00mfilepath\u001B[38;5;132;01m}\u001B[39;00m\u001B[38;5;124m.\u001B[39m\u001B[38;5;124m\"\u001B[39m\n\u001B[1;32m    116\u001B[0m )\n",
      "\u001B[0;31mValueError\u001B[0m: Invalid filepath extension for saving. Please add either a `.keras` extension for the native Keras format (recommended) or a `.h5` extension. Use `model.export(filepath)` if you want to export a SavedModel for use with TFLite/TFServing/etc. Received: filepath=digits.model."
     ]
    }
   ],
   "execution_count": 17
  },
  {
   "metadata": {
    "ExecuteTime": {
     "end_time": "2024-08-18T15:55:24.011732Z",
     "start_time": "2024-08-18T15:55:22.497858Z"
    }
   },
   "cell_type": "code",
   "source": [
    "for i in range(10):\n",
    "    img = cv.imread(f'../MyIMG/{i}.png')[:,:,0]\n",
    "    print(img)\n",
    "    img = np.invert(np.array([img]))\n",
    "    prediction = model.predict(img)\n",
    "    print(f'Prediction for {i} is {np.argmax(prediction)}')\n",
    "    plt.imshow(img[0], cmap=plt.cm.binary)\n",
    "    plt.show()"
   ],
   "id": "23e6f6970afabad8",
   "outputs": [
    {
     "name": "stdout",
     "output_type": "stream",
     "text": [
      "[[255 255 255 255 255 255 255 255 255 255 255 255 255 255 255 255 255 255\n",
      "  255 255 255 255 255 255 255 255 255 255]\n",
      " [255 255 255 255 255 255 255 255 255 255 255 255 255 255 255 255 255 255\n",
      "  255 255 255 255 255 255 255 255 255 255]\n",
      " [255 255 255 255 255 255 255 255 255 255 255 255   0   0   0   0   0   0\n",
      "    0   0   0 255 255 255 255 255 255 255]\n",
      " [255 255 255 255 255 255 255 255 255 255 255   0   0 255 255 255 255 255\n",
      "  255 255   0   0 255 255 255 255 255 255]\n",
      " [255 255 255 255 255 255 255 255 255 255   0   0   0   0 255 255 255 255\n",
      "  255 255 255   0   0   0 255 255 255 255]\n",
      " [255 255 255 255 255 255 255 255 255   0   0 255 255 255 255 255 255 255\n",
      "  255 255 255 255 255   0 255 255 255 255]\n",
      " [255 255 255 255 255 255 255 255 255   0 255 255 255 255 255 255 255 255\n",
      "  255 255 255 255 255   0   0 255 255 255]\n",
      " [255 255 255 255 255 255 255 255 255   0 255 255 255 255 255 255 255 255\n",
      "  255 255 255 255 255 255   0 255 255 255]\n",
      " [255 255 255 255 255 255 255 255   0   0 255 255 255 255 255 255 255 255\n",
      "  255 255 255 255 255 255   0 255 255 255]\n",
      " [255 255 255 255 255 255 255 255   0 255 255 255 255 255 255 255 255 255\n",
      "  255 255 255 255 255 255   0 255 255 255]\n",
      " [255 255 255 255 255 255 255 255   0 255 255 255 255 255 255 255 255 255\n",
      "  255 255 255 255 255 255   0 255 255 255]\n",
      " [255 255 255 255 255 255 255   0   0 255 255 255 255 255 255 255 255 255\n",
      "  255 255 255 255 255 255   0 255 255 255]\n",
      " [255 255 255 255 255 255 255   0 255 255 255 255 255 255 255 255 255 255\n",
      "  255 255 255 255 255 255   0 255 255 255]\n",
      " [255 255 255 255 255 255 255   0 255 255 255 255 255 255 255 255 255 255\n",
      "  255 255 255 255 255   0   0 255 255 255]\n",
      " [255 255 255 255 255 255 255   0 255 255 255 255 255 255 255 255 255 255\n",
      "  255 255 255 255 255   0 255 255 255 255]\n",
      " [255 255 255 255 255 255 255   0   0 255 255 255 255 255 255 255 255 255\n",
      "  255 255 255 255 255   0 255 255 255 255]\n",
      " [255 255 255 255 255 255 255 255   0 255 255 255 255 255 255 255 255 255\n",
      "  255 255 255 255 255   0 255 255 255 255]\n",
      " [255 255 255 255 255 255 255 255   0   0 255 255 255 255 255 255 255 255\n",
      "  255 255 255 255   0 255 255 255 255 255]\n",
      " [255 255 255 255 255 255 255 255 255   0 255 255 255 255 255 255 255 255\n",
      "  255 255 255 255   0 255 255 255 255 255]\n",
      " [255 255 255 255 255 255 255 255 255   0   0 255 255 255 255 255 255 255\n",
      "  255 255 255 255   0 255 255 255 255 255]\n",
      " [255 255 255 255 255 255 255 255 255 255   0 255 255 255 255 255 255 255\n",
      "  255 255 255   0 255 255 255 255 255 255]\n",
      " [255 255 255 255 255 255 255 255 255 255   0   0 255 255 255 255 255 255\n",
      "  255 255   0   0 255 255 255 255 255 255]\n",
      " [255 255 255 255 255 255 255 255 255 255 255   0   0   0   0 255 255 255\n",
      "  255   0   0 255 255 255 255 255 255 255]\n",
      " [255 255 255 255 255 255 255 255 255 255 255 255 255 255   0   0   0   0\n",
      "    0   0 255 255 255 255 255 255 255 255]\n",
      " [255 255 255 255 255 255 255 255 255 255 255 255 255 255 255 255 255 255\n",
      "  255 255 255 255 255 255 255 255 255 255]\n",
      " [255 255 255 255 255 255 255 255 255 255 255 255 255 255 255 255 255 255\n",
      "  255 255 255 255 255 255 255 255 255 255]\n",
      " [255 255 255 255 255 255 255 255 255 255 255 255 255 255 255 255 255 255\n",
      "  255 255 255 255 255 255 255 255 255 255]\n",
      " [255 255 255 255 255 255 255 255 255 255 255 255 255 255 255 255 255 255\n",
      "  255 255 255 255 255 255 255 255 255 255]]\n",
      "\u001B[1m1/1\u001B[0m \u001B[32m━━━━━━━━━━━━━━━━━━━━\u001B[0m\u001B[37m\u001B[0m \u001B[1m0s\u001B[0m 95ms/step\n",
      "Prediction for 0 is 6\n"
     ]
    },
    {
     "data": {
      "text/plain": [
       "<Figure size 640x480 with 1 Axes>"
      ],
      "image/png": "[encoded data removed]"
     },
     "metadata": {},
     "output_type": "display_data"
    },
    {
     "name": "stdout",
     "output_type": "stream",
     "text": [
      "[[255 255 255 255 255 255 255 255 255 255 255 255 255 255 255 255 255 255\n",
      "  255 255 255 255 255 255 255 255 255 255]\n",
      " [255 255 255 255 255 255 255 255 255 255 255 255 255 255 255 255 255 255\n",
      "  255 255 255 255 255 255 255 255 255 255]\n",
      " [255 255 255 255 255 255 255 255 255 255 255 255 255 255 255 255 255 255\n",
      "  255 255 255 255 255 255 255 255 255 255]\n",
      " [255 255 255 255 255 255 255 255 255 255 255 255 255 255 255 255 255   0\n",
      "  255 255 255 255 255 255 255 255 255 255]\n",
      " [255 255 255 255 255 255 255 255 255 255 255 255 255 255 255 255   0   0\n",
      "  255 255 255 255 255 255 255 255 255 255]\n",
      " [255 255 255 255 255 255 255 255 255 255 255 255 255 255   0   0   0   0\n",
      "  255 255 255 255 255 255 255 255 255 255]\n",
      " [255 255 255 255 255 255 255 255 255 255 255 255 255   0   0 255   0   0\n",
      "  255 255 255 255 255 255 255 255 255 255]\n",
      " [255 255 255 255 255 255 255 255 255 255 255 255   0   0 255 255   0 255\n",
      "  255 255 255 255 255 255 255 255 255 255]\n",
      " [255 255 255 255 255 255 255 255 255 255 255   0   0 255 255 255   0 255\n",
      "  255 255 255 255 255 255 255 255 255 255]\n",
      " [255 255 255 255 255 255 255 255 255 255   0   0 255 255 255 255   0 255\n",
      "  255 255 255 255 255 255 255 255 255 255]\n",
      " [255 255 255 255 255 255 255 255 255 255   0 255 255 255 255 255   0 255\n",
      "  255 255 255 255 255 255 255 255 255 255]\n",
      " [255 255 255 255 255 255 255 255 255   0   0 255 255 255 255 255   0 255\n",
      "  255 255 255 255 255 255 255 255 255 255]\n",
      " [255 255 255 255 255 255 255 255   0   0 255 255 255 255 255 255   0 255\n",
      "  255 255 255 255 255 255 255 255 255 255]\n",
      " [255 255 255 255 255 255 255   0   0 255 255 255 255 255 255 255   0 255\n",
      "  255 255 255 255 255 255 255 255 255 255]\n",
      " [255 255 255 255 255 255 255 255 255 255 255 255 255 255 255 255   0 255\n",
      "  255 255 255 255 255 255 255 255 255 255]\n",
      " [255 255 255 255 255 255 255 255 255 255 255 255 255 255 255   0   0 255\n",
      "  255 255 255 255 255 255 255 255 255 255]\n",
      " [255 255 255 255 255 255 255 255 255 255 255 255 255 255 255   0 255 255\n",
      "  255 255 255 255 255 255 255 255 255 255]\n",
      " [255 255 255 255 255 255 255 255 255 255 255 255 255 255 255   0 255 255\n",
      "  255 255 255 255 255 255 255 255 255 255]\n",
      " [255 255 255 255 255 255 255 255 255 255 255 255 255 255 255   0 255 255\n",
      "  255 255 255 255 255 255 255 255 255 255]\n",
      " [255 255 255 255 255 255 255 255 255 255 255 255 255 255 255   0 255 255\n",
      "  255 255 255 255 255 255 255 255 255 255]\n",
      " [255 255 255 255 255 255 255 255 255 255 255 255 255 255 255   0 255 255\n",
      "  255 255 255 255 255 255 255 255 255 255]\n",
      " [255 255 255 255 255 255 255 255 255 255 255 255 255 255 255   0 255 255\n",
      "  255 255 255 255 255 255 255 255 255 255]\n",
      " [255 255 255 255 255 255 255 255 255 255 255 255 255 255 255 255 255 255\n",
      "  255 255 255 255 255 255 255 255 255 255]\n",
      " [255 255 255 255 255 255 255 255 255 255 255 255 255 255 255 255 255 255\n",
      "  255 255 255 255 255 255 255 255 255 255]\n",
      " [255 255 255 255 255 255 255 255 255 255 255 255 255 255 255 255 255 255\n",
      "  255 255 255 255 255 255 255 255 255 255]\n",
      " [255 255 255 255 255 255 255 255 255 255 255 255 255 255 255 255 255 255\n",
      "  255 255 255 255 255 255 255 255 255 255]\n",
      " [255 255 255 255 255 255 255 255 255 255 255 255 255 255 255 255 255 255\n",
      "  255 255 255 255 255 255 255 255 255 255]\n",
      " [255 255 255 255 255 255 255 255 255 255 255 255 255 255 255 255 255 255\n",
      "  255 255 255 255 255 255 255 255 255 255]]\n",
      "\u001B[1m1/1\u001B[0m \u001B[32m━━━━━━━━━━━━━━━━━━━━\u001B[0m\u001B[37m\u001B[0m \u001B[1m0s\u001B[0m 16ms/step\n",
      "Prediction for 1 is 9\n"
     ]
    },
    {
     "data": {
      "text/plain": [
       "<Figure size 640x480 with 1 Axes>"
      ],
      "image/png": "[encoded data removed]"
     },
     "metadata": {},
     "output_type": "display_data"
    },
    {
     "name": "stdout",
     "output_type": "stream",
     "text": [
      "[[255 255 255 255 255 255 255 255 255 255 255 255 255 255 255 255 255 255\n",
      "  255 255 255 255 255 255 255 255 255 255]\n",
      " [255 255 255 255 255 255 255 255 255 255 255 255 255 255 255 255 255 255\n",
      "  255 255 255 255 255 255 255 255 255 255]\n",
      " [255 255 255 255 255 255 255 255 255 255 255 255 255 255 255 255 255 255\n",
      "  255 255 255 255 255 255 255 255 255 255]\n",
      " [255 255 255 255 255 255 255 255 255 255 255 255 255 255 255 255 255 255\n",
      "  255 255 255 255 255 255 255 255 255 255]\n",
      " [255 255 255 255 255 255 255 255 255 255 255 255 255 255 255 255 255 255\n",
      "  255 255 255 255 255 255 255 255 255 255]\n",
      " [255 255 255 255 255 255 255 255 255 255   0   0   0   0   0   0   0 255\n",
      "  255 255 255 255 255 255 255 255 255 255]\n",
      " [255 255 255 255 255 255 255 255 255   0   0 255 255 255 255 255   0   0\n",
      "  255 255 255 255 255 255 255 255 255 255]\n",
      " [255 255 255 255 255 255 255 255   0   0 255 255 255 255 255 255 255   0\n",
      "  255 255 255 255 255 255 255 255 255 255]\n",
      " [255 255 255 255 255 255 255   0   0 255 255 255 255 255 255 255   0   0\n",
      "  255 255 255 255 255 255 255 255 255 255]\n",
      " [255 255 255 255 255 255 255   0 255 255 255 255 255 255 255 255   0 255\n",
      "  255 255 255 255 255 255 255 255 255 255]\n",
      " [255 255 255 255 255 255 255   0 255 255 255 255 255 255 255 255   0 255\n",
      "  255 255 255 255 255 255 255 255 255 255]\n",
      " [255 255 255 255 255 255 255 255 255 255 255 255 255 255 255   0   0 255\n",
      "  255 255 255 255 255 255 255 255 255 255]\n",
      " [255 255 255 255 255 255 255 255 255 255 255 255 255   0   0 255 255 255\n",
      "  255 255 255 255 255 255 255 255 255 255]\n",
      " [255 255 255 255 255 255 255 255 255 255 255 255   0   0 255 255 255 255\n",
      "  255 255 255 255 255 255 255 255 255 255]\n",
      " [255 255 255 255 255 255 255 255 255 255 255 255   0 255 255 255 255 255\n",
      "  255 255 255 255 255 255 255 255 255 255]\n",
      " [255 255 255 255 255 255 255 255 255 255 255   0   0 255 255 255 255 255\n",
      "  255 255 255 255 255 255 255 255 255 255]\n",
      " [255 255 255 255 255 255 255 255 255 255 255   0 255 255 255 255 255 255\n",
      "  255 255 255 255 255 255 255 255 255 255]\n",
      " [255 255 255 255 255 255 255 255 255 255 255   0 255 255 255 255 255 255\n",
      "  255 255 255 255 255 255 255 255 255 255]\n",
      " [255 255 255 255 255 255 255 255 255 255   0   0 255 255 255 255 255 255\n",
      "  255 255 255 255 255 255 255 255 255 255]\n",
      " [255 255 255 255 255 255 255 255 255 255   0 255 255 255 255 255 255 255\n",
      "    0 255 255 255 255 255 255 255 255 255]\n",
      " [255 255 255 255 255 255 255 255 255   0   0   0   0   0   0   0   0   0\n",
      "    0   0 255 255 255 255 255 255 255 255]\n",
      " [255 255 255 255 255 255 255 255 255 255 255 255 255 255 255 255 255 255\n",
      "  255 255 255 255 255 255 255 255 255 255]\n",
      " [255 255 255 255 255 255 255 255 255 255 255 255 255 255 255 255 255 255\n",
      "  255 255 255 255 255 255 255 255 255 255]\n",
      " [255 255 255 255 255 255 255 255 255 255 255 255 255 255 255 255 255 255\n",
      "  255 255 255 255 255 255 255 255 255 255]\n",
      " [255 255 255 255 255 255 255 255 255 255 255 255 255 255 255 255 255 255\n",
      "  255 255 255 255 255 255 255 255 255 255]\n",
      " [255 255 255 255 255 255 255 255 255 255 255 255 255 255 255 255 255 255\n",
      "  255 255 255 255 255 255 255 255 255 255]\n",
      " [255 255 255 255 255 255 255 255 255 255 255 255 255 255 255 255 255 255\n",
      "  255 255 255 255 255 255 255 255 255 255]\n",
      " [255 255 255 255 255 255 255 255 255 255 255 255 255 255 255 255 255 255\n",
      "  255 255 255 255 255 255 255 255 255 255]]\n",
      "\u001B[1m1/1\u001B[0m \u001B[32m━━━━━━━━━━━━━━━━━━━━\u001B[0m\u001B[37m\u001B[0m \u001B[1m0s\u001B[0m 24ms/step\n",
      "Prediction for 2 is 2\n"
     ]
    },
    {
     "data": {
      "text/plain": [
       "<Figure size 640x480 with 1 Axes>"
      ],
      "image/png": "[encoded data removed]"
     },
     "metadata": {},
     "output_type": "display_data"
    },
    {
     "name": "stdout",
     "output_type": "stream",
     "text": [
      "[[255 255 255 255 255 255 255 255 255 255 255 255 255 255 255 255 255 255\n",
      "  255 255 255 255 255 255 255 255 255 255]\n",
      " [255 255 255 255 255 255 255 255 255 255 255 255 255 255 255 255 255 255\n",
      "  255 255 255 255 255 255 255 255 255 255]\n",
      " [255 255 255 255 255 255 255 255 255 255 255 255 255 255 255 255 255 255\n",
      "  255 255 255 255 255 255 255 255 255 255]\n",
      " [255 255 255 255 255 255 255 255 255 255 255 255 255 255 255 255 255 255\n",
      "  255 255 255 255 255 255 255 255 255 255]\n",
      " [255 255 255 255 255 255 255 255 255 255 255 255 255 255 255 255 255 255\n",
      "  255 255 255 255 255 255 255 255 255 255]\n",
      " [255 255 255 255 255 255 255 255 255 255 255 255 255 255 255 255 255 255\n",
      "  255 255 255 255 255 255 255 255 255 255]\n",
      " [255 255 255 255 255 255 255 255 255 255 255   0   0   0   0 255 255 255\n",
      "  255 255 255 255 255 255 255 255 255 255]\n",
      " [255 255 255 255 255 255 255 255 255   0   0   0 255 255   0   0   0 255\n",
      "  255 255 255 255 255 255 255 255 255 255]\n",
      " [255 255 255 255 255 255 255 255 255   0 255 255 255 255 255 255   0   0\n",
      "  255 255 255 255 255 255 255 255 255 255]\n",
      " [255 255 255 255 255 255 255 255   0 255 255 255 255 255 255 255 255   0\n",
      "  255 255 255 255 255 255 255 255 255 255]\n",
      " [255 255 255 255 255 255 255 255 255 255 255 255 255 255 255 255 255   0\n",
      "  255 255 255 255 255 255 255 255 255 255]\n",
      " [255 255 255 255 255 255 255 255 255 255 255 255 255 255 255   0   0   0\n",
      "  255 255 255 255 255 255 255 255 255 255]\n",
      " [255 255 255 255 255 255 255 255 255 255 255 255   0   0   0   0 255 255\n",
      "  255 255 255 255 255 255 255 255 255 255]\n",
      " [255 255 255 255 255 255 255 255 255 255 255   0   0   0   0   0   0 255\n",
      "  255 255 255 255 255 255 255 255 255 255]\n",
      " [255 255 255 255 255 255 255 255 255 255 255 255 255 255 255 255   0   0\n",
      "  255 255 255 255 255 255 255 255 255 255]\n",
      " [255 255 255 255 255 255 255 255 255 255 255 255 255 255 255 255 255   0\n",
      "  255 255 255 255 255 255 255 255 255 255]\n",
      " [255 255 255 255 255 255 255 255 255 255 255 255 255 255 255 255 255   0\n",
      "  255 255 255 255 255 255 255 255 255 255]\n",
      " [255 255 255 255 255 255 255 255 255 255 255 255 255 255 255 255 255   0\n",
      "    0 255 255 255 255 255 255 255 255 255]\n",
      " [255 255 255 255 255 255 255 255 255 255 255 255 255 255 255 255 255 255\n",
      "    0 255 255 255 255 255 255 255 255 255]\n",
      " [255 255 255 255 255 255 255 255 255 255 255 255 255 255 255 255 255 255\n",
      "    0 255 255 255 255 255 255 255 255 255]\n",
      " [255 255 255 255 255 255 255 255   0 255 255 255 255 255 255 255 255   0\n",
      "    0 255 255 255 255 255 255 255 255 255]\n",
      " [255 255 255 255 255 255 255 255   0   0   0 255 255 255   0   0   0   0\n",
      "  255 255 255 255 255 255 255 255 255 255]\n",
      " [255 255 255 255 255 255 255 255 255 255   0   0   0   0   0 255 255 255\n",
      "  255 255 255 255 255 255 255 255 255 255]\n",
      " [255 255 255 255 255 255 255 255 255 255 255 255 255 255 255 255 255 255\n",
      "  255 255 255 255 255 255 255 255 255 255]\n",
      " [255 255 255 255 255 255 255 255 255 255 255 255 255 255 255 255 255 255\n",
      "  255 255 255 255 255 255 255 255 255 255]\n",
      " [255 255 255 255 255 255 255 255 255 255 255 255 255 255 255 255 255 255\n",
      "  255 255 255 255 255 255 255 255 255 255]\n",
      " [255 255 255 255 255 255 255 255 255 255 255 255 255 255 255 255 255 255\n",
      "  255 255 255 255 255 255 255 255 255 255]\n",
      " [255 255 255 255 255 255 255 255 255 255 255 255 255 255 255 255 255 255\n",
      "  255 255 255 255 255 255 255 255 255 255]]\n",
      "\u001B[1m1/1\u001B[0m \u001B[32m━━━━━━━━━━━━━━━━━━━━\u001B[0m\u001B[37m\u001B[0m \u001B[1m0s\u001B[0m 18ms/step\n",
      "Prediction for 3 is 3\n"
     ]
    },
    {
     "data": {
      "text/plain": [
       "<Figure size 640x480 with 1 Axes>"
      ],
      "image/png": "[encoded data removed]"
     },
     "metadata": {},
     "output_type": "display_data"
    },
    {
     "name": "stdout",
     "output_type": "stream",
     "text": [
      "[[255 255 255 255 255 255 255 255 255 255 255 255 255 255 255 255 255 255\n",
      "  255 255 255 255 255 255 255 255 255 255]\n",
      " [255 255 255 255 255 255 255 255 255 255 255 255 255 255   0 255 255 255\n",
      "  255 255 255 255 255 255 255 255 255 255]\n",
      " [255 255 255 255 255 255 255 255 255 255 255 255 255   0   0 255 255 255\n",
      "  255 255 255 255 255 255 255 255 255 255]\n",
      " [255 255 255 255 255 255 255 255 255 255 255 255   0   0 255 255 255 255\n",
      "  255 255 255 255 255 255 255 255 255 255]\n",
      " [255 255 255 255 255 255 255 255 255 255 255   0   0 255 255 255 255 255\n",
      "  255 255 255 255 255 255 255 255 255 255]\n",
      " [255 255 255 255 255 255 255 255 255 255 255   0   0 255 255 255 255 255\n",
      "  255 255 255 255 255 255 255 255 255 255]\n",
      " [255 255 255 255 255 255 255 255 255 255 255   0 255 255 255 255 255 255\n",
      "  255 255 255 255 255 255 255 255 255 255]\n",
      " [255 255 255 255 255 255 255 255 255 255   0   0 255 255 255 255 255 255\n",
      "  255 255 255 255 255 255 255 255 255 255]\n",
      " [255 255 255 255 255 255 255 255 255 255   0 255 255 255 255 255 255 255\n",
      "  255 255 255 255 255 255 255 255 255 255]\n",
      " [255 255 255 255 255 255 255 255 255   0 255 255 255 255 255 255   0 255\n",
      "  255 255 255 255 255 255 255 255 255 255]\n",
      " [255 255 255 255 255 255 255 255 255   0 255 255 255 255 255 255   0 255\n",
      "  255 255 255 255 255 255 255 255 255 255]\n",
      " [255 255 255 255 255 255 255 255   0   0 255 255 255 255 255 255   0 255\n",
      "  255 255 255 255 255 255 255 255 255 255]\n",
      " [255 255 255 255 255 255 255 255   0   0   0 255 255 255 255 255   0 255\n",
      "  255 255 255 255 255 255 255 255 255 255]\n",
      " [255 255 255 255 255 255 255 255 255 255   0   0   0   0   0   0   0   0\n",
      "    0   0   0 255 255 255 255 255 255 255]\n",
      " [255 255 255 255 255 255 255 255 255 255 255 255 255 255 255   0 255 255\n",
      "  255 255 255 255 255 255 255 255 255 255]\n",
      " [255 255 255 255 255 255 255 255 255 255 255 255 255 255 255   0 255 255\n",
      "  255 255 255 255 255 255 255 255 255 255]\n",
      " [255 255 255 255 255 255 255 255 255 255 255 255 255 255 255   0 255 255\n",
      "  255 255 255 255 255 255 255 255 255 255]\n",
      " [255 255 255 255 255 255 255 255 255 255 255 255 255 255 255   0 255 255\n",
      "  255 255 255 255 255 255 255 255 255 255]\n",
      " [255 255 255 255 255 255 255 255 255 255 255 255 255 255 255   0 255 255\n",
      "  255 255 255 255 255 255 255 255 255 255]\n",
      " [255 255 255 255 255 255 255 255 255 255 255 255 255 255 255   0 255 255\n",
      "  255 255 255 255 255 255 255 255 255 255]\n",
      " [255 255 255 255 255 255 255 255 255 255 255 255 255 255 255   0 255 255\n",
      "  255 255 255 255 255 255 255 255 255 255]\n",
      " [255 255 255 255 255 255 255 255 255 255 255 255 255 255   0   0 255 255\n",
      "  255 255 255 255 255 255 255 255 255 255]\n",
      " [255 255 255 255 255 255 255 255 255 255 255 255 255 255 255 255 255 255\n",
      "  255 255 255 255 255 255 255 255 255 255]\n",
      " [255 255 255 255 255 255 255 255 255 255 255 255 255 255 255 255 255 255\n",
      "  255 255 255 255 255 255 255 255 255 255]\n",
      " [255 255 255 255 255 255 255 255 255 255 255 255 255 255 255 255 255 255\n",
      "  255 255 255 255 255 255 255 255 255 255]\n",
      " [255 255 255 255 255 255 255 255 255 255 255 255 255 255 255 255 255 255\n",
      "  255 255 255 255 255 255 255 255 255 255]\n",
      " [255 255 255 255 255 255 255 255 255 255 255 255 255 255 255 255 255 255\n",
      "  255 255 255 255 255 255 255 255 255 255]\n",
      " [255 255 255 255 255 255 255 255 255 255 255 255 255 255 255 255 255 255\n",
      "  255 255 255 255 255 255 255 255 255 255]]\n",
      "\u001B[1m1/1\u001B[0m \u001B[32m━━━━━━━━━━━━━━━━━━━━\u001B[0m\u001B[37m\u001B[0m \u001B[1m0s\u001B[0m 19ms/step\n",
      "Prediction for 4 is 6\n"
     ]
    },
    {
     "data": {
      "text/plain": [
       "<Figure size 640x480 with 1 Axes>"
      ],
      "image/png": "[encoded data removed]"
     },
     "metadata": {},
     "output_type": "display_data"
    },
    {
     "name": "stdout",
     "output_type": "stream",
     "text": [
      "[[255 255 255 255 255 255 255 255 255 255 255 255 255 255 255 255 255 255\n",
      "  255 255 255 255 255 255 255 255 255 255]\n",
      " [255 255 255 255 255 255 255 255 255 255 255 255 255 255 255 255 255 255\n",
      "  255 255 255 255 255 255 255 255 255 255]\n",
      " [255 255 255 255 255 255 255 255 255 255 255 255 255 255 255 255 255 255\n",
      "  255 255 255 255 255 255 255 255 255 255]\n",
      " [255 255 255 255 255 255 255 255 255 255 255 255 255 255 255 255 255 255\n",
      "  255 255 255 255 255 255 255 255 255 255]\n",
      " [255 255 255 255 255 255 255 255 255 255 255 255 255 255 255 255 255 255\n",
      "  255 255 255 255 255 255 255 255 255 255]\n",
      " [255 255 255 255 255 255 255 255 255 255   0   0   0   0   0 255 255 255\n",
      "  255 255 255 255 255 255 255 255 255 255]\n",
      " [255 255 255 255 255 255 255 255 255 255   0   0 255 255   0   0   0   0\n",
      "    0   0   0 255 255 255 255 255 255 255]\n",
      " [255 255 255 255 255 255 255 255 255 255 255   0 255 255 255 255 255 255\n",
      "  255 255 255 255 255 255 255 255 255 255]\n",
      " [255 255 255 255 255 255 255 255 255 255 255   0 255 255 255 255 255 255\n",
      "  255 255 255 255 255 255 255 255 255 255]\n",
      " [255 255 255 255 255 255 255 255 255 255 255   0 255 255 255 255 255 255\n",
      "  255 255 255 255 255 255 255 255 255 255]\n",
      " [255 255 255 255 255 255 255 255 255 255 255   0 255 255 255 255 255 255\n",
      "  255 255 255 255 255 255 255 255 255 255]\n",
      " [255 255 255 255 255 255 255 255 255 255 255   0 255 255 255 255 255 255\n",
      "  255 255 255 255 255 255 255 255 255 255]\n",
      " [255 255 255 255 255 255 255 255 255 255 255   0   0   0   0   0   0 255\n",
      "  255 255 255 255 255 255 255 255 255 255]\n",
      " [255 255 255 255 255 255 255 255 255 255 255 255 255 255 255 255   0 255\n",
      "  255 255 255 255 255 255 255 255 255 255]\n",
      " [255 255 255 255 255 255 255 255 255 255 255 255 255 255 255 255   0 255\n",
      "  255 255 255 255 255 255 255 255 255 255]\n",
      " [255 255 255 255 255 255 255 255 255 255 255 255 255 255 255 255   0 255\n",
      "  255 255 255 255 255 255 255 255 255 255]\n",
      " [255 255 255 255 255 255 255 255 255 255 255 255 255 255 255 255   0 255\n",
      "  255 255 255 255 255 255 255 255 255 255]\n",
      " [255 255 255 255 255 255 255   0 255 255 255 255 255 255 255 255   0   0\n",
      "  255 255 255 255 255 255 255 255 255 255]\n",
      " [255 255 255 255 255 255 255   0 255 255 255 255 255 255 255 255 255   0\n",
      "  255 255 255 255 255 255 255 255 255 255]\n",
      " [255 255 255 255 255 255 255   0   0 255 255 255 255 255 255 255 255   0\n",
      "  255 255 255 255 255 255 255 255 255 255]\n",
      " [255 255 255 255 255 255 255 255   0 255 255 255 255 255 255   0   0   0\n",
      "  255 255 255 255 255 255 255 255 255 255]\n",
      " [255 255 255 255 255 255 255 255   0   0   0   0   0   0   0   0 255 255\n",
      "  255 255 255 255 255 255 255 255 255 255]\n",
      " [255 255 255 255 255 255 255 255 255 255 255 255 255 255 255 255 255 255\n",
      "  255 255 255 255 255 255 255 255 255 255]\n",
      " [255 255 255 255 255 255 255 255 255 255 255 255 255 255 255 255 255 255\n",
      "  255 255 255 255 255 255 255 255 255 255]\n",
      " [255 255 255 255 255 255 255 255 255 255 255 255 255 255 255 255 255 255\n",
      "  255 255 255 255 255 255 255 255 255 255]\n",
      " [255 255 255 255 255 255 255 255 255 255 255 255 255 255 255 255 255 255\n",
      "  255 255 255 255 255 255 255 255 255 255]\n",
      " [255 255 255 255 255 255 255 255 255 255 255 255 255 255 255 255 255 255\n",
      "  255 255 255 255 255 255 255 255 255 255]\n",
      " [255 255 255 255 255 255 255 255 255 255 255 255 255 255 255 255 255 255\n",
      "  255 255 255 255 255 255 255 255 255 255]]\n",
      "\u001B[1m1/1\u001B[0m \u001B[32m━━━━━━━━━━━━━━━━━━━━\u001B[0m\u001B[37m\u001B[0m \u001B[1m0s\u001B[0m 16ms/step\n",
      "Prediction for 5 is 5\n"
     ]
    },
    {
     "data": {
      "text/plain": [
       "<Figure size 640x480 with 1 Axes>"
      ],
      "image/png": "[encoded data removed]"
     },
     "metadata": {},
     "output_type": "display_data"
    },
    {
     "name": "stdout",
     "output_type": "stream",
     "text": [
      "[[255 255 255 255 255 255 255 255 255 255 255 255 255 255 255 255 255 255\n",
      "  255 255 255 255 255 255 255 255 255 255]\n",
      " [255 255 255 255 255 255 255 255 255 255 255 255 255 255 255 255 255 255\n",
      "  255 255 255 255 255 255 255 255 255 255]\n",
      " [255 255 255 255 255 255 255 255 255 255 255 255 255 255 255 255 255 255\n",
      "  255 255 255 255 255 255 255 255 255 255]\n",
      " [255 255 255 255 255 255 255 255 255 255 255 255 255 255 255 255 255 255\n",
      "  255 255 255 255 255 255 255 255 255 255]\n",
      " [255 255 255 255 255 255 255 255 255 255 255 255 255 255 255 255 255 255\n",
      "  255 255 255 255 255 255 255 255 255 255]\n",
      " [255 255 255 255 255 255 255 255 255 255 255 255   0   0   0   0 255 255\n",
      "  255 255 255 255 255 255 255 255 255 255]\n",
      " [255 255 255 255 255 255 255 255 255 255 255   0   0 255 255 255 255 255\n",
      "  255 255 255 255 255 255 255 255 255 255]\n",
      " [255 255 255 255 255 255 255 255 255 255   0   0 255 255 255 255 255 255\n",
      "  255 255 255 255 255 255 255 255 255 255]\n",
      " [255 255 255 255 255 255 255 255 255 255   0 255 255 255 255 255 255 255\n",
      "  255 255 255 255 255 255 255 255 255 255]\n",
      " [255 255 255 255 255 255 255 255 255   0   0 255 255 255 255 255 255 255\n",
      "  255 255 255 255 255 255 255 255 255 255]\n",
      " [255 255 255 255 255 255 255 255 255   0 255 255 255 255 255 255 255 255\n",
      "  255 255 255 255 255 255 255 255 255 255]\n",
      " [255 255 255 255 255 255 255 255 255   0 255 255 255 255 255 255 255 255\n",
      "  255 255 255 255 255 255 255 255 255 255]\n",
      " [255 255 255 255 255 255 255 255 255   0 255 255 255 255 255 255 255 255\n",
      "  255 255 255 255 255 255 255 255 255 255]\n",
      " [255 255 255 255 255 255 255 255 255   0   0   0   0   0   0   0   0 255\n",
      "  255 255 255 255 255 255 255 255 255 255]\n",
      " [255 255 255 255 255 255 255 255   0   0 255 255 255 255 255 255   0   0\n",
      "    0 255 255 255 255 255 255 255 255 255]\n",
      " [255 255 255 255 255 255 255 255   0 255 255 255 255 255 255 255 255 255\n",
      "    0   0 255 255 255 255 255 255 255 255]\n",
      " [255 255 255 255 255 255 255 255   0 255 255 255 255 255 255 255 255 255\n",
      "  255 255   0 255 255 255 255 255 255 255]\n",
      " [255 255 255 255 255 255 255 255   0 255 255 255 255 255 255 255 255 255\n",
      "  255 255   0 255 255 255 255 255 255 255]\n",
      " [255 255 255 255 255 255 255 255   0 255 255 255 255 255 255 255 255 255\n",
      "  255 255   0 255 255 255 255 255 255 255]\n",
      " [255 255 255 255 255 255 255 255   0 255 255 255 255 255 255 255 255 255\n",
      "  255 255   0 255 255 255 255 255 255 255]\n",
      " [255 255 255 255 255 255 255 255   0   0 255 255 255 255 255 255 255 255\n",
      "  255   0   0 255 255 255 255 255 255 255]\n",
      " [255 255 255 255 255 255 255 255 255   0 255 255 255 255 255 255 255   0\n",
      "    0   0 255 255 255 255 255 255 255 255]\n",
      " [255 255 255 255 255 255 255 255 255   0   0   0   0   0   0   0   0   0\n",
      "  255 255 255 255 255 255 255 255 255 255]\n",
      " [255 255 255 255 255 255 255 255 255 255 255 255 255 255 255 255 255 255\n",
      "  255 255 255 255 255 255 255 255 255 255]\n",
      " [255 255 255 255 255 255 255 255 255 255 255 255 255 255 255 255 255 255\n",
      "  255 255 255 255 255 255 255 255 255 255]\n",
      " [255 255 255 255 255 255 255 255 255 255 255 255 255 255 255 255 255 255\n",
      "  255 255 255 255 255 255 255 255 255 255]\n",
      " [255 255 255 255 255 255 255 255 255 255 255 255 255 255 255 255 255 255\n",
      "  255 255 255 255 255 255 255 255 255 255]\n",
      " [255 255 255 255 255 255 255 255 255 255 255 255 255 255 255 255 255 255\n",
      "  255 255 255 255 255 255 255 255 255 255]]\n",
      "\u001B[1m1/1\u001B[0m \u001B[32m━━━━━━━━━━━━━━━━━━━━\u001B[0m\u001B[37m\u001B[0m \u001B[1m0s\u001B[0m 12ms/step\n",
      "Prediction for 6 is 8\n"
     ]
    },
    {
     "data": {
      "text/plain": [
       "<Figure size 640x480 with 1 Axes>"
      ],
      "image/png": "[encoded data removed]"
     },
     "metadata": {},
     "output_type": "display_data"
    },
    {
     "name": "stdout",
     "output_type": "stream",
     "text": [
      "[[255 255 255 255 255 255 255 255 255 255 255 255 255 255 255 255 255 255\n",
      "  255 255 255 255 255 255 255 255 255 255]\n",
      " [255 255 255 255 255 255 255 255 255 255 255 255 255 255 255 255 255 255\n",
      "  255 255 255 255 255 255 255 255 255 255]\n",
      " [255 255 255 255 255 255 255 255 255 255 255 255 255 255 255 255 255 255\n",
      "  255 255 255 255 255 255 255 255 255 255]\n",
      " [255 255 255 255 255 255 255 255 255 255 255 255 255 255 255 255 255 255\n",
      "  255 255 255 255 255 255 255 255 255 255]\n",
      " [255 255 255 255 255 255 255 255 255 255 255 255 255 255 255 255 255 255\n",
      "  255 255 255 255 255 255 255 255 255 255]\n",
      " [255 255 255 255 255 255 255 255 255 255 255 255 255 255 255 255 255 255\n",
      "  255 255 255 255 255 255 255 255 255 255]\n",
      " [255 255 255 255 255 255 255   0   0   0   0   0   0   0   0   0   0   0\n",
      "    0   0 255 255 255 255 255 255 255 255]\n",
      " [255 255 255 255 255 255 255 255 255 255 255 255 255 255 255 255 255 255\n",
      "  255 255   0   0   0 255 255 255 255 255]\n",
      " [255 255 255 255 255 255 255 255 255 255 255 255 255 255 255 255 255 255\n",
      "  255 255   0   0 255 255 255 255 255 255]\n",
      " [255 255 255 255 255 255 255 255 255 255 255 255 255 255 255 255 255 255\n",
      "  255   0   0 255 255 255 255 255 255 255]\n",
      " [255 255 255 255 255 255 255 255 255 255 255 255 255 255 255 255 255 255\n",
      "  255   0 255 255 255 255 255 255 255 255]\n",
      " [255 255 255 255 255 255 255 255 255 255 255 255 255 255 255 255 255 255\n",
      "    0   0 255 255 255 255 255 255 255 255]\n",
      " [255 255 255 255 255 255 255 255 255 255 255 255 255 255 255 255 255 255\n",
      "    0 255 255 255 255 255 255 255 255 255]\n",
      " [255 255 255 255 255 255 255 255 255 255 255 255 255 255 255 255 255   0\n",
      "    0 255 255 255 255 255 255 255 255 255]\n",
      " [255 255 255 255 255 255 255 255 255 255 255 255   0   0   0   0   0   0\n",
      "    0   0   0 255 255 255 255 255 255 255]\n",
      " [255 255 255 255 255 255 255 255 255 255 255 255 255 255 255 255   0   0\n",
      "  255 255   0   0   0 255 255 255 255 255]\n",
      " [255 255 255 255 255 255 255 255 255 255 255 255 255 255 255 255   0 255\n",
      "  255 255 255 255 255 255 255 255 255 255]\n",
      " [255 255 255 255 255 255 255 255 255 255 255 255 255 255 255   0   0 255\n",
      "  255 255 255 255 255 255 255 255 255 255]\n",
      " [255 255 255 255 255 255 255 255 255 255 255 255 255 255 255   0 255 255\n",
      "  255 255 255 255 255 255 255 255 255 255]\n",
      " [255 255 255 255 255 255 255 255 255 255 255 255 255 255   0   0 255 255\n",
      "  255 255 255 255 255 255 255 255 255 255]\n",
      " [255 255 255 255 255 255 255 255 255 255 255 255 255 255   0 255 255 255\n",
      "  255 255 255 255 255 255 255 255 255 255]\n",
      " [255 255 255 255 255 255 255 255 255 255 255 255 255 255   0 255 255 255\n",
      "  255 255 255 255 255 255 255 255 255 255]\n",
      " [255 255 255 255 255 255 255 255 255 255 255 255   0   0 255 255 255 255\n",
      "  255 255 255 255 255 255 255 255 255 255]\n",
      " [255 255 255 255 255 255 255 255 255 255 255 255   0   0 255 255 255 255\n",
      "  255 255 255 255 255 255 255 255 255 255]\n",
      " [255 255 255 255 255 255 255 255 255 255 255 255 255 255 255 255 255 255\n",
      "  255 255 255 255 255 255 255 255 255 255]\n",
      " [255 255 255 255 255 255 255 255 255 255 255 255 255 255 255 255 255 255\n",
      "  255 255 255 255 255 255 255 255 255 255]\n",
      " [255 255 255 255 255 255 255 255 255 255 255 255 255 255 255 255 255 255\n",
      "  255 255 255 255 255 255 255 255 255 255]\n",
      " [255 255 255 255 255 255 255 255 255 255 255 255 255 255 255 255 255 255\n",
      "  255 255 255 255 255 255 255 255 255 255]]\n",
      "\u001B[1m1/1\u001B[0m \u001B[32m━━━━━━━━━━━━━━━━━━━━\u001B[0m\u001B[37m\u001B[0m \u001B[1m0s\u001B[0m 14ms/step\n",
      "Prediction for 7 is 7\n"
     ]
    },
    {
     "data": {
      "text/plain": [
       "<Figure size 640x480 with 1 Axes>"
      ],
      "image/png": "[encoded data removed]"
     },
     "metadata": {},
     "output_type": "display_data"
    },
    {
     "name": "stdout",
     "output_type": "stream",
     "text": [
      "[[255 255 255 255 255 255 255 255 255 255 255 255 255 255 255 255 255 255\n",
      "  255 255 255 255 255 255 255 255 255 255]\n",
      " [255 255 255 255 255 255 255 255 255 255 255 255 255 255 255 255 255 255\n",
      "  255 255 255 255 255 255 255 255 255 255]\n",
      " [255 255 255 255 255 255 255 255 255 255 255 255 255 255 255 255 255 255\n",
      "  255 255 255 255 255 255 255 255 255 255]\n",
      " [255 255 255 255 255 255 255 255 255 255 255 255 255 255 255 255 255 255\n",
      "  255 255 255 255 255 255 255 255 255 255]\n",
      " [255 255 255 255 255 255 255 255 255 255 255 255   0   0   0   0   0 255\n",
      "  255 255 255 255 255 255 255 255 255 255]\n",
      " [255 255 255 255 255 255 255 255 255   0   0   0   0 255 255 255   0   0\n",
      "    0 255 255 255 255 255 255 255 255 255]\n",
      " [255 255 255 255 255 255 255 255   0   0 255 255 255 255 255 255 255   0\n",
      "    0 255 255 255 255 255 255 255 255 255]\n",
      " [255 255 255 255 255 255 255 255   0 255 255 255 255 255 255 255 255 255\n",
      "    0 255 255 255 255 255 255 255 255 255]\n",
      " [255 255 255 255 255 255 255 255   0 255 255 255 255 255 255 255 255 255\n",
      "    0 255 255 255 255 255 255 255 255 255]\n",
      " [255 255 255 255 255 255 255 255   0   0 255 255 255 255 255 255 255 255\n",
      "    0 255 255 255 255 255 255 255 255 255]\n",
      " [255 255 255 255 255 255 255 255 255   0   0 255 255 255 255 255 255   0\n",
      "    0 255 255 255 255 255 255 255 255 255]\n",
      " [255 255 255 255 255 255 255 255 255 255   0   0 255 255 255 255   0   0\n",
      "  255 255 255 255 255 255 255 255 255 255]\n",
      " [255 255 255 255 255 255 255 255 255 255 255   0   0   0 255   0   0 255\n",
      "  255 255 255 255 255 255 255 255 255 255]\n",
      " [255 255 255 255 255 255 255 255 255 255 255 255 255   0   0   0 255 255\n",
      "  255 255 255 255 255 255 255 255 255 255]\n",
      " [255 255 255 255 255 255 255 255 255 255 255 255   0   0   0   0 255 255\n",
      "  255 255 255 255 255 255 255 255 255 255]\n",
      " [255 255 255 255 255 255 255 255 255 255   0   0   0 255 255   0 255 255\n",
      "  255 255 255 255 255 255 255 255 255 255]\n",
      " [255 255 255 255 255 255 255 255 255   0   0 255 255 255 255   0   0 255\n",
      "  255 255 255 255 255 255 255 255 255 255]\n",
      " [255 255 255 255 255 255 255 255   0   0 255 255 255 255 255 255   0 255\n",
      "  255 255 255 255 255 255 255 255 255 255]\n",
      " [255 255 255 255 255 255 255 255   0 255 255 255 255 255 255 255   0 255\n",
      "  255 255 255 255 255 255 255 255 255 255]\n",
      " [255 255 255 255 255 255 255 255   0 255 255 255 255 255 255 255   0 255\n",
      "  255 255 255 255 255 255 255 255 255 255]\n",
      " [255 255 255 255 255 255 255 255   0 255 255 255 255 255 255   0   0 255\n",
      "  255 255 255 255 255 255 255 255 255 255]\n",
      " [255 255 255 255 255 255 255 255   0 255 255 255 255 255   0   0 255 255\n",
      "  255 255 255 255 255 255 255 255 255 255]\n",
      " [255 255 255 255 255 255 255 255   0   0   0   0   0   0   0 255 255 255\n",
      "  255 255 255 255 255 255 255 255 255 255]\n",
      " [255 255 255 255 255 255 255 255 255 255 255 255 255 255 255 255 255 255\n",
      "  255 255 255 255 255 255 255 255 255 255]\n",
      " [255 255 255 255 255 255 255 255 255 255 255 255 255 255 255 255 255 255\n",
      "  255 255 255 255 255 255 255 255 255 255]\n",
      " [255 255 255 255 255 255 255 255 255 255 255 255 255 255 255 255 255 255\n",
      "  255 255 255 255 255 255 255 255 255 255]\n",
      " [255 255 255 255 255 255 255 255 255 255 255 255 255 255 255 255 255 255\n",
      "  255 255 255 255 255 255 255 255 255 255]\n",
      " [255 255 255 255 255 255 255 255 255 255 255 255 255 255 255 255 255 255\n",
      "  255 255 255 255 255 255 255 255 255 255]]\n",
      "\u001B[1m1/1\u001B[0m \u001B[32m━━━━━━━━━━━━━━━━━━━━\u001B[0m\u001B[37m\u001B[0m \u001B[1m0s\u001B[0m 14ms/step\n",
      "Prediction for 8 is 8\n"
     ]
    },
    {
     "data": {
      "text/plain": [
       "<Figure size 640x480 with 1 Axes>"
      ],
      "image/png": "[encoded data removed]"
     },
     "metadata": {},
     "output_type": "display_data"
    },
    {
     "name": "stdout",
     "output_type": "stream",
     "text": [
      "[[255 255 255 255 255 255 255 255 255 255 255 255 255 255 255 255 255 255\n",
      "  255 255 255 255 255 255 255 255 255 255]\n",
      " [255 255 255 255 255 255 255 255 255 255 255 255 255 255 255 255 255 255\n",
      "  255 255 255 255 255 255 255 255 255 255]\n",
      " [255 255 255 255 255 255 255 255 255 255 255 255 255 255 255 255 255 255\n",
      "  255 255 255 255 255 255 255 255 255 255]\n",
      " [255 255 255 255 255 255 255 255 255 255 255   0   0   0   0   0   0   0\n",
      "  255 255 255 255 255 255 255 255 255 255]\n",
      " [255 255 255 255 255 255 255 255 255   0   0   0 255 255 255 255 255   0\n",
      "    0 255 255 255 255 255 255 255 255 255]\n",
      " [255 255 255 255 255 255 255 255 255   0 255 255 255 255 255 255 255 255\n",
      "    0   0 255 255 255 255 255 255 255 255]\n",
      " [255 255 255 255 255 255 255 255   0   0 255 255 255 255 255 255 255 255\n",
      "    0   0 255 255 255 255 255 255 255 255]\n",
      " [255 255 255 255 255 255 255 255   0 255 255 255 255 255 255 255 255 255\n",
      "    0   0 255 255 255 255 255 255 255 255]\n",
      " [255 255 255 255 255 255 255 255   0 255 255 255 255 255 255 255 255 255\n",
      "    0 255 255 255 255 255 255 255 255 255]\n",
      " [255 255 255 255 255 255 255 255   0 255 255 255 255 255 255 255 255 255\n",
      "    0   0 255 255 255 255 255 255 255 255]\n",
      " [255 255 255 255 255 255 255 255   0 255 255 255 255 255 255 255 255   0\n",
      "    0   0 255 255 255 255 255 255 255 255]\n",
      " [255 255 255 255 255 255 255 255   0   0 255 255 255 255 255 255   0   0\n",
      "    0 255 255 255 255 255 255 255 255 255]\n",
      " [255 255 255 255 255 255 255 255 255   0   0   0 255 255 255 255   0 255\n",
      "    0 255 255 255 255 255 255 255 255 255]\n",
      " [255 255 255 255 255 255 255 255 255 255 255   0   0   0   0   0   0 255\n",
      "    0 255 255 255 255 255 255 255 255 255]\n",
      " [255 255 255 255 255 255 255 255 255 255 255 255 255 255 255 255 255 255\n",
      "    0 255 255 255 255 255 255 255 255 255]\n",
      " [255 255 255 255 255 255 255 255 255 255 255 255 255 255 255 255 255 255\n",
      "    0 255 255 255 255 255 255 255 255 255]\n",
      " [255 255 255 255 255 255 255 255 255 255 255 255 255 255 255 255 255 255\n",
      "    0 255 255 255 255 255 255 255 255 255]\n",
      " [255 255 255 255 255 255 255 255 255 255 255 255 255 255 255 255 255 255\n",
      "    0 255 255 255 255 255 255 255 255 255]\n",
      " [255 255 255 255 255 255 255 255 255   0 255 255 255 255 255 255 255   0\n",
      "    0 255 255 255 255 255 255 255 255 255]\n",
      " [255 255 255 255 255 255 255 255 255   0   0 255 255 255 255 255 255   0\n",
      "  255 255 255 255 255 255 255 255 255 255]\n",
      " [255 255 255 255 255 255 255 255 255 255   0 255 255 255 255 255 255   0\n",
      "  255 255 255 255 255 255 255 255 255 255]\n",
      " [255 255 255 255 255 255 255 255 255 255   0   0 255 255 255 255   0   0\n",
      "  255 255 255 255 255 255 255 255 255 255]\n",
      " [255 255 255 255 255 255 255 255 255 255 255   0   0   0 255 255   0 255\n",
      "  255 255 255 255 255 255 255 255 255 255]\n",
      " [255 255 255 255 255 255 255 255 255 255 255 255 255   0   0   0   0 255\n",
      "  255 255 255 255 255 255 255 255 255 255]\n",
      " [255 255 255 255 255 255 255 255 255 255 255 255 255 255 255 255 255 255\n",
      "  255 255 255 255 255 255 255 255 255 255]\n",
      " [255 255 255 255 255 255 255 255 255 255 255 255 255 255 255 255 255 255\n",
      "  255 255 255 255 255 255 255 255 255 255]\n",
      " [255 255 255 255 255 255 255 255 255 255 255 255 255 255 255 255 255 255\n",
      "  255 255 255 255 255 255 255 255 255 255]\n",
      " [255 255 255 255 255 255 255 255 255 255 255 255 255 255 255 255 255 255\n",
      "  255 255 255 255 255 255 255 255 255 255]]\n",
      "\u001B[1m1/1\u001B[0m \u001B[32m━━━━━━━━━━━━━━━━━━━━\u001B[0m\u001B[37m\u001B[0m \u001B[1m0s\u001B[0m 9ms/step\n",
      "Prediction for 9 is 3\n"
     ]
    },
    {
     "data": {
      "text/plain": [
       "<Figure size 640x480 with 1 Axes>"
      ],
      "image/png": "[encoded data removed]"
     },
     "metadata": {},
     "output_type": "display_data"
    }
   ],
   "execution_count": 27
  },
  {
   "metadata": {
    "ExecuteTime": {
     "end_time": "2024-08-18T15:55:10.333907Z",
     "start_time": "2024-08-18T15:55:10.327066Z"
    }
   },
   "cell_type": "code",
   "source": [
    "import os\n",
    "\n",
    "print(\"Current working directory:\", os.getcwd())\n",
    "print(\"Contents of the image directory:\", os.listdir('../MyIMG'))\n"
   ],
   "id": "d371628bc352f827",
   "outputs": [
    {
     "name": "stdout",
     "output_type": "stream",
     "text": [
      "Current working directory: /Users/kristianko/Documents/Uni/Bakalárska Práca/NeuralNetwork_Digits/DigitsRecognition/CNNs\n",
      "Contents of the image directory: ['8.png', '9.png', '4.png', '5.png', '7.png', '6.png', '2.png', '3.png', '1.png', '0.png']\n"
     ]
    }
   ],
   "execution_count": 26
  },
  {
   "metadata": {},
   "cell_type": "code",
   "outputs": [],
   "execution_count": null,
   "source": "",
   "id": "3f52c31d8a60bd3a"
  }
 ],
 "metadata": {
  "kernelspec": {
   "display_name": "Python 3",
   "language": "python",
   "name": "python3"
  },
  "language_info": {
   "codemirror_mode": {
    "name": "ipython",
    "version": 2
   },
   "file_extension": ".py",
   "mimetype": "text/x-python",
   "name": "python",
   "nbconvert_exporter": "python",
   "pygments_lexer": "ipython2",
   "version": "2.7.6"
  }
 },
 "nbformat": 4,
 "nbformat_minor": 5
}
